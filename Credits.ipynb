{
  "nbformat": 4,
  "nbformat_minor": 0,
  "metadata": {
    "colab": {
      "provenance": [],
      "gpuType": "T4",
      "mount_file_id": "1XGG0fS_y1zDKkGOAghkpS0PFy-UISrNY",
      "authorship_tag": "ABX9TyPO+DbqzLabwm241mTnp2ti",
      "include_colab_link": true
    },
    "kernelspec": {
      "name": "python3",
      "display_name": "Python 3"
    },
    "language_info": {
      "name": "python"
    },
    "accelerator": "GPU"
  },
  "cells": [
    {
      "cell_type": "markdown",
      "metadata": {
        "id": "view-in-github",
        "colab_type": "text"
      },
      "source": [
        "<a href=\"https://colab.research.google.com/github/hemekci/PythonforFinance/blob/main/Credits.ipynb\" target=\"_parent\"><img src=\"https://colab.research.google.com/assets/colab-badge.svg\" alt=\"Open In Colab\"/></a>"
      ]
    },
    {
      "cell_type": "markdown",
      "source": [
        "#0 - Preprocess"
      ],
      "metadata": {
        "id": "5x2YDCxvoh4L"
      }
    },
    {
      "cell_type": "code",
      "source": [
        "!pip install graphviz\n"
      ],
      "metadata": {
        "colab": {
          "base_uri": "https://localhost:8080/"
        },
        "id": "jLPeoJCp2hvj",
        "outputId": "2a6996e5-8331-4da7-c8ec-83b3b2529551"
      },
      "execution_count": null,
      "outputs": [
        {
          "output_type": "stream",
          "name": "stdout",
          "text": [
            "Requirement already satisfied: graphviz in /usr/local/lib/python3.10/dist-packages (0.20.1)\n"
          ]
        }
      ]
    },
    {
      "cell_type": "code",
      "execution_count": null,
      "metadata": {
        "colab": {
          "base_uri": "https://localhost:8080/"
        },
        "id": "gqJgmZgxbth-",
        "outputId": "f83be772-b28e-4c1d-8744-7b65fec5639e"
      },
      "outputs": [
        {
          "output_type": "stream",
          "name": "stdout",
          "text": [
            "Drive already mounted at /content/drive; to attempt to forcibly remount, call drive.mount(\"/content/drive\", force_remount=True).\n"
          ]
        }
      ],
      "source": [
        "from google.colab import drive\n",
        "import pandas as pd\n",
        "\n",
        "# Mount Google Drive to Colab\n",
        "drive.mount('/content/drive')\n",
        "\n",
        "basedir = \"/content/drive/MyDrive/ColabData/CreditData\"\n",
        "\n",
        "# Read CSV file into DataFrame. Replace with your actual file path\n",
        "df_credit = pd.read_csv( basedir + '/Credit_Decisions_Oct_2023.csv')\n",
        "df_demography = pd.read_csv( basedir + '/Demographics_Oct_2023.csv')"
      ]
    },
    {
      "cell_type": "code",
      "source": [
        "print(df_credit.shape)\n",
        "df_credit.head()"
      ],
      "metadata": {
        "colab": {
          "base_uri": "https://localhost:8080/",
          "height": 224
        },
        "id": "_rXmZ0rfcuvP",
        "outputId": "1320fcac-31a8-4aab-962d-33d1706eae82"
      },
      "execution_count": null,
      "outputs": [
        {
          "output_type": "stream",
          "name": "stdout",
          "text": [
            "(80057, 4)\n"
          ]
        },
        {
          "output_type": "execute_result",
          "data": {
            "text/plain": [
              "   application_key   mvar1  decision  decision_amount\n",
              "0              NaN     NaN       NaN              NaN\n",
              "1         230032.0  1681.5       0.0         0.000000\n",
              "2         230033.0  1804.5       1.0      1363.758814\n",
              "3         230034.0  1732.5       1.0      1022.493980\n",
              "4         230035.0  1726.5       1.0       998.246261"
            ],
            "text/html": [
              "\n",
              "  <div id=\"df-60c9c264-ec5c-413f-ac08-78b7f803f221\" class=\"colab-df-container\">\n",
              "    <div>\n",
              "<style scoped>\n",
              "    .dataframe tbody tr th:only-of-type {\n",
              "        vertical-align: middle;\n",
              "    }\n",
              "\n",
              "    .dataframe tbody tr th {\n",
              "        vertical-align: top;\n",
              "    }\n",
              "\n",
              "    .dataframe thead th {\n",
              "        text-align: right;\n",
              "    }\n",
              "</style>\n",
              "<table border=\"1\" class=\"dataframe\">\n",
              "  <thead>\n",
              "    <tr style=\"text-align: right;\">\n",
              "      <th></th>\n",
              "      <th>application_key</th>\n",
              "      <th>mvar1</th>\n",
              "      <th>decision</th>\n",
              "      <th>decision_amount</th>\n",
              "    </tr>\n",
              "  </thead>\n",
              "  <tbody>\n",
              "    <tr>\n",
              "      <th>0</th>\n",
              "      <td>NaN</td>\n",
              "      <td>NaN</td>\n",
              "      <td>NaN</td>\n",
              "      <td>NaN</td>\n",
              "    </tr>\n",
              "    <tr>\n",
              "      <th>1</th>\n",
              "      <td>230032.0</td>\n",
              "      <td>1681.5</td>\n",
              "      <td>0.0</td>\n",
              "      <td>0.000000</td>\n",
              "    </tr>\n",
              "    <tr>\n",
              "      <th>2</th>\n",
              "      <td>230033.0</td>\n",
              "      <td>1804.5</td>\n",
              "      <td>1.0</td>\n",
              "      <td>1363.758814</td>\n",
              "    </tr>\n",
              "    <tr>\n",
              "      <th>3</th>\n",
              "      <td>230034.0</td>\n",
              "      <td>1732.5</td>\n",
              "      <td>1.0</td>\n",
              "      <td>1022.493980</td>\n",
              "    </tr>\n",
              "    <tr>\n",
              "      <th>4</th>\n",
              "      <td>230035.0</td>\n",
              "      <td>1726.5</td>\n",
              "      <td>1.0</td>\n",
              "      <td>998.246261</td>\n",
              "    </tr>\n",
              "  </tbody>\n",
              "</table>\n",
              "</div>\n",
              "    <div class=\"colab-df-buttons\">\n",
              "\n",
              "  <div class=\"colab-df-container\">\n",
              "    <button class=\"colab-df-convert\" onclick=\"convertToInteractive('df-60c9c264-ec5c-413f-ac08-78b7f803f221')\"\n",
              "            title=\"Convert this dataframe to an interactive table.\"\n",
              "            style=\"display:none;\">\n",
              "\n",
              "  <svg xmlns=\"http://www.w3.org/2000/svg\" height=\"24px\" viewBox=\"0 -960 960 960\">\n",
              "    <path d=\"M120-120v-720h720v720H120Zm60-500h600v-160H180v160Zm220 220h160v-160H400v160Zm0 220h160v-160H400v160ZM180-400h160v-160H180v160Zm440 0h160v-160H620v160ZM180-180h160v-160H180v160Zm440 0h160v-160H620v160Z\"/>\n",
              "  </svg>\n",
              "    </button>\n",
              "\n",
              "  <style>\n",
              "    .colab-df-container {\n",
              "      display:flex;\n",
              "      gap: 12px;\n",
              "    }\n",
              "\n",
              "    .colab-df-convert {\n",
              "      background-color: #E8F0FE;\n",
              "      border: none;\n",
              "      border-radius: 50%;\n",
              "      cursor: pointer;\n",
              "      display: none;\n",
              "      fill: #1967D2;\n",
              "      height: 32px;\n",
              "      padding: 0 0 0 0;\n",
              "      width: 32px;\n",
              "    }\n",
              "\n",
              "    .colab-df-convert:hover {\n",
              "      background-color: #E2EBFA;\n",
              "      box-shadow: 0px 1px 2px rgba(60, 64, 67, 0.3), 0px 1px 3px 1px rgba(60, 64, 67, 0.15);\n",
              "      fill: #174EA6;\n",
              "    }\n",
              "\n",
              "    .colab-df-buttons div {\n",
              "      margin-bottom: 4px;\n",
              "    }\n",
              "\n",
              "    [theme=dark] .colab-df-convert {\n",
              "      background-color: #3B4455;\n",
              "      fill: #D2E3FC;\n",
              "    }\n",
              "\n",
              "    [theme=dark] .colab-df-convert:hover {\n",
              "      background-color: #434B5C;\n",
              "      box-shadow: 0px 1px 3px 1px rgba(0, 0, 0, 0.15);\n",
              "      filter: drop-shadow(0px 1px 2px rgba(0, 0, 0, 0.3));\n",
              "      fill: #FFFFFF;\n",
              "    }\n",
              "  </style>\n",
              "\n",
              "    <script>\n",
              "      const buttonEl =\n",
              "        document.querySelector('#df-60c9c264-ec5c-413f-ac08-78b7f803f221 button.colab-df-convert');\n",
              "      buttonEl.style.display =\n",
              "        google.colab.kernel.accessAllowed ? 'block' : 'none';\n",
              "\n",
              "      async function convertToInteractive(key) {\n",
              "        const element = document.querySelector('#df-60c9c264-ec5c-413f-ac08-78b7f803f221');\n",
              "        const dataTable =\n",
              "          await google.colab.kernel.invokeFunction('convertToInteractive',\n",
              "                                                    [key], {});\n",
              "        if (!dataTable) return;\n",
              "\n",
              "        const docLinkHtml = 'Like what you see? Visit the ' +\n",
              "          '<a target=\"_blank\" href=https://colab.research.google.com/notebooks/data_table.ipynb>data table notebook</a>'\n",
              "          + ' to learn more about interactive tables.';\n",
              "        element.innerHTML = '';\n",
              "        dataTable['output_type'] = 'display_data';\n",
              "        await google.colab.output.renderOutput(dataTable, element);\n",
              "        const docLink = document.createElement('div');\n",
              "        docLink.innerHTML = docLinkHtml;\n",
              "        element.appendChild(docLink);\n",
              "      }\n",
              "    </script>\n",
              "  </div>\n",
              "\n",
              "\n",
              "<div id=\"df-e3c5dd4e-cc54-46d9-b464-cffd058985e0\">\n",
              "  <button class=\"colab-df-quickchart\" onclick=\"quickchart('df-e3c5dd4e-cc54-46d9-b464-cffd058985e0')\"\n",
              "            title=\"Suggest charts.\"\n",
              "            style=\"display:none;\">\n",
              "\n",
              "<svg xmlns=\"http://www.w3.org/2000/svg\" height=\"24px\"viewBox=\"0 0 24 24\"\n",
              "     width=\"24px\">\n",
              "    <g>\n",
              "        <path d=\"M19 3H5c-1.1 0-2 .9-2 2v14c0 1.1.9 2 2 2h14c1.1 0 2-.9 2-2V5c0-1.1-.9-2-2-2zM9 17H7v-7h2v7zm4 0h-2V7h2v10zm4 0h-2v-4h2v4z\"/>\n",
              "    </g>\n",
              "</svg>\n",
              "  </button>\n",
              "\n",
              "<style>\n",
              "  .colab-df-quickchart {\n",
              "      --bg-color: #E8F0FE;\n",
              "      --fill-color: #1967D2;\n",
              "      --hover-bg-color: #E2EBFA;\n",
              "      --hover-fill-color: #174EA6;\n",
              "      --disabled-fill-color: #AAA;\n",
              "      --disabled-bg-color: #DDD;\n",
              "  }\n",
              "\n",
              "  [theme=dark] .colab-df-quickchart {\n",
              "      --bg-color: #3B4455;\n",
              "      --fill-color: #D2E3FC;\n",
              "      --hover-bg-color: #434B5C;\n",
              "      --hover-fill-color: #FFFFFF;\n",
              "      --disabled-bg-color: #3B4455;\n",
              "      --disabled-fill-color: #666;\n",
              "  }\n",
              "\n",
              "  .colab-df-quickchart {\n",
              "    background-color: var(--bg-color);\n",
              "    border: none;\n",
              "    border-radius: 50%;\n",
              "    cursor: pointer;\n",
              "    display: none;\n",
              "    fill: var(--fill-color);\n",
              "    height: 32px;\n",
              "    padding: 0;\n",
              "    width: 32px;\n",
              "  }\n",
              "\n",
              "  .colab-df-quickchart:hover {\n",
              "    background-color: var(--hover-bg-color);\n",
              "    box-shadow: 0 1px 2px rgba(60, 64, 67, 0.3), 0 1px 3px 1px rgba(60, 64, 67, 0.15);\n",
              "    fill: var(--button-hover-fill-color);\n",
              "  }\n",
              "\n",
              "  .colab-df-quickchart-complete:disabled,\n",
              "  .colab-df-quickchart-complete:disabled:hover {\n",
              "    background-color: var(--disabled-bg-color);\n",
              "    fill: var(--disabled-fill-color);\n",
              "    box-shadow: none;\n",
              "  }\n",
              "\n",
              "  .colab-df-spinner {\n",
              "    border: 2px solid var(--fill-color);\n",
              "    border-color: transparent;\n",
              "    border-bottom-color: var(--fill-color);\n",
              "    animation:\n",
              "      spin 1s steps(1) infinite;\n",
              "  }\n",
              "\n",
              "  @keyframes spin {\n",
              "    0% {\n",
              "      border-color: transparent;\n",
              "      border-bottom-color: var(--fill-color);\n",
              "      border-left-color: var(--fill-color);\n",
              "    }\n",
              "    20% {\n",
              "      border-color: transparent;\n",
              "      border-left-color: var(--fill-color);\n",
              "      border-top-color: var(--fill-color);\n",
              "    }\n",
              "    30% {\n",
              "      border-color: transparent;\n",
              "      border-left-color: var(--fill-color);\n",
              "      border-top-color: var(--fill-color);\n",
              "      border-right-color: var(--fill-color);\n",
              "    }\n",
              "    40% {\n",
              "      border-color: transparent;\n",
              "      border-right-color: var(--fill-color);\n",
              "      border-top-color: var(--fill-color);\n",
              "    }\n",
              "    60% {\n",
              "      border-color: transparent;\n",
              "      border-right-color: var(--fill-color);\n",
              "    }\n",
              "    80% {\n",
              "      border-color: transparent;\n",
              "      border-right-color: var(--fill-color);\n",
              "      border-bottom-color: var(--fill-color);\n",
              "    }\n",
              "    90% {\n",
              "      border-color: transparent;\n",
              "      border-bottom-color: var(--fill-color);\n",
              "    }\n",
              "  }\n",
              "</style>\n",
              "\n",
              "  <script>\n",
              "    async function quickchart(key) {\n",
              "      const quickchartButtonEl =\n",
              "        document.querySelector('#' + key + ' button');\n",
              "      quickchartButtonEl.disabled = true;  // To prevent multiple clicks.\n",
              "      quickchartButtonEl.classList.add('colab-df-spinner');\n",
              "      try {\n",
              "        const charts = await google.colab.kernel.invokeFunction(\n",
              "            'suggestCharts', [key], {});\n",
              "      } catch (error) {\n",
              "        console.error('Error during call to suggestCharts:', error);\n",
              "      }\n",
              "      quickchartButtonEl.classList.remove('colab-df-spinner');\n",
              "      quickchartButtonEl.classList.add('colab-df-quickchart-complete');\n",
              "    }\n",
              "    (() => {\n",
              "      let quickchartButtonEl =\n",
              "        document.querySelector('#df-e3c5dd4e-cc54-46d9-b464-cffd058985e0 button');\n",
              "      quickchartButtonEl.style.display =\n",
              "        google.colab.kernel.accessAllowed ? 'block' : 'none';\n",
              "    })();\n",
              "  </script>\n",
              "</div>\n",
              "    </div>\n",
              "  </div>\n"
            ]
          },
          "metadata": {},
          "execution_count": 3
        }
      ]
    },
    {
      "cell_type": "markdown",
      "source": [
        "### Handling Missing Values\n",
        "\n",
        "I need to decide impute or delete missing values."
      ],
      "metadata": {
        "id": "kxi8wbJoncnM"
      }
    },
    {
      "cell_type": "code",
      "source": [
        "print(df_credit.isnull().sum())\n"
      ],
      "metadata": {
        "colab": {
          "base_uri": "https://localhost:8080/"
        },
        "id": "2i8ZlRIHdW8L",
        "outputId": "65380179-7fc7-47b1-9375-a1a416d82b25"
      },
      "execution_count": null,
      "outputs": [
        {
          "output_type": "stream",
          "name": "stdout",
          "text": [
            "application_key    0\n",
            "mvar1              0\n",
            "decision           0\n",
            "decision_amount    0\n",
            "dtype: int64\n"
          ]
        }
      ]
    },
    {
      "cell_type": "code",
      "source": [
        "missing_percentage = (df_credit.isnull().sum() / len(df_credit)) * 100\n",
        "missing_percentage"
      ],
      "metadata": {
        "colab": {
          "base_uri": "https://localhost:8080/"
        },
        "id": "xkBvi9IJiP_H",
        "outputId": "509c7eb7-fd7e-44fb-e742-541037933a05"
      },
      "execution_count": null,
      "outputs": [
        {
          "output_type": "execute_result",
          "data": {
            "text/plain": [
              "application_key    0.0\n",
              "mvar1              0.0\n",
              "decision           0.0\n",
              "decision_amount    0.0\n",
              "dtype: float64"
            ]
          },
          "metadata": {},
          "execution_count": 8
        }
      ]
    },
    {
      "cell_type": "markdown",
      "source": [
        "\n",
        "Given:  \n",
        "*   no concentration of missing values in a few variables\n",
        "*   the potential introduction of bias through imputation\n",
        "*   small proportion of variables (4.6%) is missing, I have large enough dataset.\n",
        "I prefer **removal of missing values over their imputation**"
      ],
      "metadata": {
        "id": "7LYUwPM7g74A"
      }
    },
    {
      "cell_type": "code",
      "source": [
        "# Deleting missing values from 'df_credit'\n",
        "df_credit.dropna(subset=['application_key', 'mvar1', 'decision', 'decision_amount'], inplace=True)\n"
      ],
      "metadata": {
        "id": "BoVE7Vs5h_Hi"
      },
      "execution_count": null,
      "outputs": []
    },
    {
      "cell_type": "code",
      "source": [
        "df_credit.shape"
      ],
      "metadata": {
        "colab": {
          "base_uri": "https://localhost:8080/"
        },
        "id": "uZP5jnh7nFxL",
        "outputId": "0b42ff8b-e65c-4d99-9452-5bcdf892986f"
      },
      "execution_count": null,
      "outputs": [
        {
          "output_type": "execute_result",
          "data": {
            "text/plain": [
              "(76375, 4)"
            ]
          },
          "metadata": {},
          "execution_count": 10
        }
      ]
    },
    {
      "cell_type": "markdown",
      "source": [
        "\n",
        "### Handling Duplicates\n",
        "\n",
        "After find dublicated application_key values, I need to decide keep first, keep all or delete all"
      ],
      "metadata": {
        "id": "p-rO73APkE9y"
      }
    },
    {
      "cell_type": "code",
      "source": [
        "unique_application_keys = df_credit['application_key'].nunique()\n",
        "print(f\"Number of unique application keys in df_credit: {unique_application_keys}\")\n",
        "non_unique_count = df_credit.duplicated().sum()\n",
        "print(\"Number of non-unique (duplicate) rows in df_credit:\", non_unique_count)\n"
      ],
      "metadata": {
        "colab": {
          "base_uri": "https://localhost:8080/"
        },
        "id": "9KbFlKLBh_Ae",
        "outputId": "07668101-fff7-4f1d-97ae-e135d7c0a5e0"
      },
      "execution_count": null,
      "outputs": [
        {
          "output_type": "stream",
          "name": "stdout",
          "text": [
            "Number of unique application keys in df_credit: 76322\n",
            "Number of non-unique (duplicate) rows in df_credit: 15\n"
          ]
        }
      ]
    },
    {
      "cell_type": "code",
      "source": [
        "duplicates = df_credit[df_credit.duplicated(subset='application_key', keep=False)]\n",
        "print(\"Duplicate 'application_key' values in df_credit:\")\n",
        "print(duplicates)"
      ],
      "metadata": {
        "colab": {
          "base_uri": "https://localhost:8080/"
        },
        "id": "rFkmSsbVh-9y",
        "outputId": "a98d5254-a631-46e6-ac26-fe6a4675c65b"
      },
      "execution_count": null,
      "outputs": [
        {
          "output_type": "stream",
          "name": "stdout",
          "text": [
            "Duplicate 'application_key' values in df_credit:\n",
            "       application_key    mvar1  decision  decision_amount\n",
            "16            230047.0  1548.75       0.0         0.000000\n",
            "17            230047.0  1548.75       0.0         0.000000\n",
            "18            230047.0  1575.75       0.0         0.000000\n",
            "59            230088.0  1636.75       0.0         0.000000\n",
            "60            230088.0  1629.50       0.0         0.000000\n",
            "...                ...      ...       ...              ...\n",
            "77388         307365.0  1695.75       0.0         0.000000\n",
            "78044         308021.0  1720.00       1.0       972.626360\n",
            "78045         308021.0  1712.75       1.0       944.825260\n",
            "78047         308023.0  1844.25       1.0      1598.786207\n",
            "78048         308023.0  1851.50       1.0      1645.829843\n",
            "\n",
            "[100 rows x 4 columns]\n"
          ]
        }
      ]
    },
    {
      "cell_type": "markdown",
      "source": [
        "\n",
        "Given:  \n",
        "*   the duplicated entries are due to data entry errors or other anomalies.\n",
        "*   small number of rows are dublicated, I have large enough dataset.\n",
        "I prefer **removal of dublicated rows over keeping first or all**"
      ],
      "metadata": {
        "id": "gQyb0SrRp01P"
      }
    },
    {
      "cell_type": "code",
      "source": [
        "df_credit = df_credit[~df_credit.duplicated(subset='application_key', keep=False)]\n",
        "print(df_credit.shape)"
      ],
      "metadata": {
        "colab": {
          "base_uri": "https://localhost:8080/"
        },
        "id": "HbNWUnMGqXkg",
        "outputId": "566298cd-9a44-4bcc-d6bc-40a3fdbd32ba"
      },
      "execution_count": null,
      "outputs": [
        {
          "output_type": "stream",
          "name": "stdout",
          "text": [
            "(76275, 4)\n"
          ]
        }
      ]
    },
    {
      "cell_type": "markdown",
      "source": [
        "**Preprocess Demography Data Frame**"
      ],
      "metadata": {
        "id": "suqTOmBmrXcM"
      }
    },
    {
      "cell_type": "code",
      "source": [
        "print(df_demography.shape)"
      ],
      "metadata": {
        "colab": {
          "base_uri": "https://localhost:8080/"
        },
        "id": "_Qu19RWer84m",
        "outputId": "374716c9-d9c5-42da-dc05-f2965fa016bd"
      },
      "execution_count": null,
      "outputs": [
        {
          "output_type": "stream",
          "name": "stdout",
          "text": [
            "(80017, 4)\n"
          ]
        }
      ]
    },
    {
      "cell_type": "code",
      "source": [
        "print(df_demography.isnull().sum())"
      ],
      "metadata": {
        "colab": {
          "base_uri": "https://localhost:8080/"
        },
        "id": "8utOM2kCq46m",
        "outputId": "e8abb468-2cc3-4823-e059-d60fff703210"
      },
      "execution_count": null,
      "outputs": [
        {
          "output_type": "stream",
          "name": "stdout",
          "text": [
            "application_key    1\n",
            "Gender             0\n",
            "Age                0\n",
            "Location           0\n",
            "dtype: int64\n"
          ]
        }
      ]
    },
    {
      "cell_type": "code",
      "source": [
        "unique_application_keys = df_demography['application_key'].nunique()\n",
        "print(f\"Number of unique application keys in df_credit: {unique_application_keys}\")\n",
        "non_unique_count = df_demography.duplicated().sum()\n",
        "print(\"Number of non-unique (duplicate) rows in df_credit:\", non_unique_count)\n"
      ],
      "metadata": {
        "colab": {
          "base_uri": "https://localhost:8080/"
        },
        "id": "NNpJFLe_rOdG",
        "outputId": "9d3b4847-48e2-4e79-ad9e-e6e199fffb30"
      },
      "execution_count": null,
      "outputs": [
        {
          "output_type": "stream",
          "name": "stdout",
          "text": [
            "Number of unique application keys in df_credit: 79960\n",
            "Number of non-unique (duplicate) rows in df_credit: 8\n"
          ]
        }
      ]
    },
    {
      "cell_type": "code",
      "source": [
        "df_demography.dropna(subset=['application_key'], inplace=True)\n",
        "df_demography = df_demography[~df_demography.duplicated(subset='application_key', keep=False)]\n",
        "print(df_demography.shape)"
      ],
      "metadata": {
        "colab": {
          "base_uri": "https://localhost:8080/"
        },
        "id": "UTvJhdTCrmis",
        "outputId": "0ee516a5-4971-4cb4-c906-c8e455828c7f"
      },
      "execution_count": null,
      "outputs": [
        {
          "output_type": "stream",
          "name": "stdout",
          "text": [
            "(79910, 4)\n"
          ]
        }
      ]
    },
    {
      "cell_type": "markdown",
      "source": [
        "### Merge 'df_credit' and 'df_demography'  LEFT JOIN\n",
        "\n",
        "---\n",
        "\n"
      ],
      "metadata": {
        "id": "8gcxLEJLsNpL"
      }
    },
    {
      "cell_type": "code",
      "source": [
        "merged_df = df_credit.merge(df_demography, on='application_key', how='left')\n"
      ],
      "metadata": {
        "id": "pcKdozQgsMpj"
      },
      "execution_count": null,
      "outputs": []
    },
    {
      "cell_type": "code",
      "source": [
        "print(merged_df.isnull().sum())\n",
        "print(merged_df.duplicated().sum())\n"
      ],
      "metadata": {
        "colab": {
          "base_uri": "https://localhost:8080/"
        },
        "id": "Oartajpqs0PW",
        "outputId": "4d8df6da-b754-494d-c9a8-4e8525dbb1f4"
      },
      "execution_count": null,
      "outputs": [
        {
          "output_type": "stream",
          "name": "stdout",
          "text": [
            "application_key    0\n",
            "mvar1              0\n",
            "decision           0\n",
            "decision_amount    0\n",
            "Gender             0\n",
            "Age                0\n",
            "Location           0\n",
            "dtype: int64\n",
            "0\n"
          ]
        }
      ]
    },
    {
      "cell_type": "markdown",
      "source": [
        "### Check Outliers"
      ],
      "metadata": {
        "id": "FQNi-JK52gPJ"
      }
    },
    {
      "cell_type": "code",
      "source": [
        "def find_outliers(column):\n",
        "    Q1 = column.quantile(0.25)\n",
        "    Q3 = column.quantile(0.75)\n",
        "    IQR = Q3 - Q1\n",
        "    lower_bound = Q1 - 1.5 * IQR\n",
        "    upper_bound = Q3 + 1.5 * IQR\n",
        "    outliers = column[(column < lower_bound) | (column > upper_bound)]\n",
        "    return len(outliers)\n",
        "\n",
        "columns_to_analyze = ['mvar1', 'decision_amount']\n",
        "\n",
        "outliers_count = {}\n",
        "for column in columns_to_analyze:\n",
        "    outliers_count[column] = find_outliers(merged_df[column])\n",
        "\n",
        "print(\"Outliers count in each column:\")\n",
        "print(outliers_count)"
      ],
      "metadata": {
        "colab": {
          "base_uri": "https://localhost:8080/"
        },
        "id": "ZMZ787na0lXh",
        "outputId": "810ece86-822a-4f93-97ac-8c33e65df1d1"
      },
      "execution_count": null,
      "outputs": [
        {
          "output_type": "stream",
          "name": "stdout",
          "text": [
            "Outliers count in each column:\n",
            "{'mvar1': 0, 'decision_amount': 0}\n"
          ]
        }
      ]
    },
    {
      "cell_type": "code",
      "source": [
        "import copy\n",
        "merged_df['application_key'] = merged_df['application_key'].astype(int)\n",
        "merged_df_copy =copy.deepcopy(merged_df)\n"
      ],
      "metadata": {
        "id": "akB9jjaTTPRt"
      },
      "execution_count": null,
      "outputs": []
    },
    {
      "cell_type": "code",
      "source": [
        "from sklearn.preprocessing import OneHotEncoder\n",
        "\n",
        "categorical_columns = ['Gender', 'Location', 'Age']\n",
        "categorical_data = merged_df[categorical_columns]\n",
        "encoder = OneHotEncoder(drop='first')\n",
        "one_hot_encoded = encoder.fit_transform(categorical_data)\n",
        "one_hot_encoded_df = pd.DataFrame(one_hot_encoded.toarray(), columns=encoder.get_feature_names_out(categorical_columns))\n",
        "merged_df = merged_df.drop(columns=categorical_columns)\n",
        "merged_df = pd.concat([merged_df, one_hot_encoded_df], axis=1)\n",
        "\n",
        "merged_df.head()"
      ],
      "metadata": {
        "colab": {
          "base_uri": "https://localhost:8080/",
          "height": 206
        },
        "id": "6CHmauuqI34H",
        "outputId": "76d44eae-4f65-4005-8613-c4c15ba76206"
      },
      "execution_count": null,
      "outputs": [
        {
          "output_type": "execute_result",
          "data": {
            "text/plain": [
              "   application_key    mvar1  decision  decision_amount  Gender_M  \\\n",
              "0           230032  1681.50       0.0         0.000000       1.0   \n",
              "1           230033  1804.50       1.0      1363.758814       0.0   \n",
              "2           230034  1732.50       1.0      1022.493980       0.0   \n",
              "3           230035  1726.50       1.0       998.246261       0.0   \n",
              "4           230036  1767.25       1.0      1174.972474       0.0   \n",
              "\n",
              "   Location_Northern Ireland  Location_Scotland  Location_Wales  Age_40-59  \\\n",
              "0                        0.0                1.0             0.0        0.0   \n",
              "1                        0.0                0.0             1.0        0.0   \n",
              "2                        0.0                0.0             0.0        1.0   \n",
              "3                        0.0                0.0             0.0        1.0   \n",
              "4                        0.0                0.0             0.0        0.0   \n",
              "\n",
              "   Age_60+  Age_<25  \n",
              "0      1.0      0.0  \n",
              "1      0.0      1.0  \n",
              "2      0.0      0.0  \n",
              "3      0.0      0.0  \n",
              "4      1.0      0.0  "
            ],
            "text/html": [
              "\n",
              "  <div id=\"df-1cbf00c8-ba73-4d31-a3d7-66d6e6e20906\" class=\"colab-df-container\">\n",
              "    <div>\n",
              "<style scoped>\n",
              "    .dataframe tbody tr th:only-of-type {\n",
              "        vertical-align: middle;\n",
              "    }\n",
              "\n",
              "    .dataframe tbody tr th {\n",
              "        vertical-align: top;\n",
              "    }\n",
              "\n",
              "    .dataframe thead th {\n",
              "        text-align: right;\n",
              "    }\n",
              "</style>\n",
              "<table border=\"1\" class=\"dataframe\">\n",
              "  <thead>\n",
              "    <tr style=\"text-align: right;\">\n",
              "      <th></th>\n",
              "      <th>application_key</th>\n",
              "      <th>mvar1</th>\n",
              "      <th>decision</th>\n",
              "      <th>decision_amount</th>\n",
              "      <th>Gender_M</th>\n",
              "      <th>Location_Northern Ireland</th>\n",
              "      <th>Location_Scotland</th>\n",
              "      <th>Location_Wales</th>\n",
              "      <th>Age_40-59</th>\n",
              "      <th>Age_60+</th>\n",
              "      <th>Age_&lt;25</th>\n",
              "    </tr>\n",
              "  </thead>\n",
              "  <tbody>\n",
              "    <tr>\n",
              "      <th>0</th>\n",
              "      <td>230032</td>\n",
              "      <td>1681.50</td>\n",
              "      <td>0.0</td>\n",
              "      <td>0.000000</td>\n",
              "      <td>1.0</td>\n",
              "      <td>0.0</td>\n",
              "      <td>1.0</td>\n",
              "      <td>0.0</td>\n",
              "      <td>0.0</td>\n",
              "      <td>1.0</td>\n",
              "      <td>0.0</td>\n",
              "    </tr>\n",
              "    <tr>\n",
              "      <th>1</th>\n",
              "      <td>230033</td>\n",
              "      <td>1804.50</td>\n",
              "      <td>1.0</td>\n",
              "      <td>1363.758814</td>\n",
              "      <td>0.0</td>\n",
              "      <td>0.0</td>\n",
              "      <td>0.0</td>\n",
              "      <td>1.0</td>\n",
              "      <td>0.0</td>\n",
              "      <td>0.0</td>\n",
              "      <td>1.0</td>\n",
              "    </tr>\n",
              "    <tr>\n",
              "      <th>2</th>\n",
              "      <td>230034</td>\n",
              "      <td>1732.50</td>\n",
              "      <td>1.0</td>\n",
              "      <td>1022.493980</td>\n",
              "      <td>0.0</td>\n",
              "      <td>0.0</td>\n",
              "      <td>0.0</td>\n",
              "      <td>0.0</td>\n",
              "      <td>1.0</td>\n",
              "      <td>0.0</td>\n",
              "      <td>0.0</td>\n",
              "    </tr>\n",
              "    <tr>\n",
              "      <th>3</th>\n",
              "      <td>230035</td>\n",
              "      <td>1726.50</td>\n",
              "      <td>1.0</td>\n",
              "      <td>998.246261</td>\n",
              "      <td>0.0</td>\n",
              "      <td>0.0</td>\n",
              "      <td>0.0</td>\n",
              "      <td>0.0</td>\n",
              "      <td>1.0</td>\n",
              "      <td>0.0</td>\n",
              "      <td>0.0</td>\n",
              "    </tr>\n",
              "    <tr>\n",
              "      <th>4</th>\n",
              "      <td>230036</td>\n",
              "      <td>1767.25</td>\n",
              "      <td>1.0</td>\n",
              "      <td>1174.972474</td>\n",
              "      <td>0.0</td>\n",
              "      <td>0.0</td>\n",
              "      <td>0.0</td>\n",
              "      <td>0.0</td>\n",
              "      <td>0.0</td>\n",
              "      <td>1.0</td>\n",
              "      <td>0.0</td>\n",
              "    </tr>\n",
              "  </tbody>\n",
              "</table>\n",
              "</div>\n",
              "    <div class=\"colab-df-buttons\">\n",
              "\n",
              "  <div class=\"colab-df-container\">\n",
              "    <button class=\"colab-df-convert\" onclick=\"convertToInteractive('df-1cbf00c8-ba73-4d31-a3d7-66d6e6e20906')\"\n",
              "            title=\"Convert this dataframe to an interactive table.\"\n",
              "            style=\"display:none;\">\n",
              "\n",
              "  <svg xmlns=\"http://www.w3.org/2000/svg\" height=\"24px\" viewBox=\"0 -960 960 960\">\n",
              "    <path d=\"M120-120v-720h720v720H120Zm60-500h600v-160H180v160Zm220 220h160v-160H400v160Zm0 220h160v-160H400v160ZM180-400h160v-160H180v160Zm440 0h160v-160H620v160ZM180-180h160v-160H180v160Zm440 0h160v-160H620v160Z\"/>\n",
              "  </svg>\n",
              "    </button>\n",
              "\n",
              "  <style>\n",
              "    .colab-df-container {\n",
              "      display:flex;\n",
              "      gap: 12px;\n",
              "    }\n",
              "\n",
              "    .colab-df-convert {\n",
              "      background-color: #E8F0FE;\n",
              "      border: none;\n",
              "      border-radius: 50%;\n",
              "      cursor: pointer;\n",
              "      display: none;\n",
              "      fill: #1967D2;\n",
              "      height: 32px;\n",
              "      padding: 0 0 0 0;\n",
              "      width: 32px;\n",
              "    }\n",
              "\n",
              "    .colab-df-convert:hover {\n",
              "      background-color: #E2EBFA;\n",
              "      box-shadow: 0px 1px 2px rgba(60, 64, 67, 0.3), 0px 1px 3px 1px rgba(60, 64, 67, 0.15);\n",
              "      fill: #174EA6;\n",
              "    }\n",
              "\n",
              "    .colab-df-buttons div {\n",
              "      margin-bottom: 4px;\n",
              "    }\n",
              "\n",
              "    [theme=dark] .colab-df-convert {\n",
              "      background-color: #3B4455;\n",
              "      fill: #D2E3FC;\n",
              "    }\n",
              "\n",
              "    [theme=dark] .colab-df-convert:hover {\n",
              "      background-color: #434B5C;\n",
              "      box-shadow: 0px 1px 3px 1px rgba(0, 0, 0, 0.15);\n",
              "      filter: drop-shadow(0px 1px 2px rgba(0, 0, 0, 0.3));\n",
              "      fill: #FFFFFF;\n",
              "    }\n",
              "  </style>\n",
              "\n",
              "    <script>\n",
              "      const buttonEl =\n",
              "        document.querySelector('#df-1cbf00c8-ba73-4d31-a3d7-66d6e6e20906 button.colab-df-convert');\n",
              "      buttonEl.style.display =\n",
              "        google.colab.kernel.accessAllowed ? 'block' : 'none';\n",
              "\n",
              "      async function convertToInteractive(key) {\n",
              "        const element = document.querySelector('#df-1cbf00c8-ba73-4d31-a3d7-66d6e6e20906');\n",
              "        const dataTable =\n",
              "          await google.colab.kernel.invokeFunction('convertToInteractive',\n",
              "                                                    [key], {});\n",
              "        if (!dataTable) return;\n",
              "\n",
              "        const docLinkHtml = 'Like what you see? Visit the ' +\n",
              "          '<a target=\"_blank\" href=https://colab.research.google.com/notebooks/data_table.ipynb>data table notebook</a>'\n",
              "          + ' to learn more about interactive tables.';\n",
              "        element.innerHTML = '';\n",
              "        dataTable['output_type'] = 'display_data';\n",
              "        await google.colab.output.renderOutput(dataTable, element);\n",
              "        const docLink = document.createElement('div');\n",
              "        docLink.innerHTML = docLinkHtml;\n",
              "        element.appendChild(docLink);\n",
              "      }\n",
              "    </script>\n",
              "  </div>\n",
              "\n",
              "\n",
              "<div id=\"df-f73c1d6c-7b34-4e21-b798-ffb2deec1423\">\n",
              "  <button class=\"colab-df-quickchart\" onclick=\"quickchart('df-f73c1d6c-7b34-4e21-b798-ffb2deec1423')\"\n",
              "            title=\"Suggest charts.\"\n",
              "            style=\"display:none;\">\n",
              "\n",
              "<svg xmlns=\"http://www.w3.org/2000/svg\" height=\"24px\"viewBox=\"0 0 24 24\"\n",
              "     width=\"24px\">\n",
              "    <g>\n",
              "        <path d=\"M19 3H5c-1.1 0-2 .9-2 2v14c0 1.1.9 2 2 2h14c1.1 0 2-.9 2-2V5c0-1.1-.9-2-2-2zM9 17H7v-7h2v7zm4 0h-2V7h2v10zm4 0h-2v-4h2v4z\"/>\n",
              "    </g>\n",
              "</svg>\n",
              "  </button>\n",
              "\n",
              "<style>\n",
              "  .colab-df-quickchart {\n",
              "      --bg-color: #E8F0FE;\n",
              "      --fill-color: #1967D2;\n",
              "      --hover-bg-color: #E2EBFA;\n",
              "      --hover-fill-color: #174EA6;\n",
              "      --disabled-fill-color: #AAA;\n",
              "      --disabled-bg-color: #DDD;\n",
              "  }\n",
              "\n",
              "  [theme=dark] .colab-df-quickchart {\n",
              "      --bg-color: #3B4455;\n",
              "      --fill-color: #D2E3FC;\n",
              "      --hover-bg-color: #434B5C;\n",
              "      --hover-fill-color: #FFFFFF;\n",
              "      --disabled-bg-color: #3B4455;\n",
              "      --disabled-fill-color: #666;\n",
              "  }\n",
              "\n",
              "  .colab-df-quickchart {\n",
              "    background-color: var(--bg-color);\n",
              "    border: none;\n",
              "    border-radius: 50%;\n",
              "    cursor: pointer;\n",
              "    display: none;\n",
              "    fill: var(--fill-color);\n",
              "    height: 32px;\n",
              "    padding: 0;\n",
              "    width: 32px;\n",
              "  }\n",
              "\n",
              "  .colab-df-quickchart:hover {\n",
              "    background-color: var(--hover-bg-color);\n",
              "    box-shadow: 0 1px 2px rgba(60, 64, 67, 0.3), 0 1px 3px 1px rgba(60, 64, 67, 0.15);\n",
              "    fill: var(--button-hover-fill-color);\n",
              "  }\n",
              "\n",
              "  .colab-df-quickchart-complete:disabled,\n",
              "  .colab-df-quickchart-complete:disabled:hover {\n",
              "    background-color: var(--disabled-bg-color);\n",
              "    fill: var(--disabled-fill-color);\n",
              "    box-shadow: none;\n",
              "  }\n",
              "\n",
              "  .colab-df-spinner {\n",
              "    border: 2px solid var(--fill-color);\n",
              "    border-color: transparent;\n",
              "    border-bottom-color: var(--fill-color);\n",
              "    animation:\n",
              "      spin 1s steps(1) infinite;\n",
              "  }\n",
              "\n",
              "  @keyframes spin {\n",
              "    0% {\n",
              "      border-color: transparent;\n",
              "      border-bottom-color: var(--fill-color);\n",
              "      border-left-color: var(--fill-color);\n",
              "    }\n",
              "    20% {\n",
              "      border-color: transparent;\n",
              "      border-left-color: var(--fill-color);\n",
              "      border-top-color: var(--fill-color);\n",
              "    }\n",
              "    30% {\n",
              "      border-color: transparent;\n",
              "      border-left-color: var(--fill-color);\n",
              "      border-top-color: var(--fill-color);\n",
              "      border-right-color: var(--fill-color);\n",
              "    }\n",
              "    40% {\n",
              "      border-color: transparent;\n",
              "      border-right-color: var(--fill-color);\n",
              "      border-top-color: var(--fill-color);\n",
              "    }\n",
              "    60% {\n",
              "      border-color: transparent;\n",
              "      border-right-color: var(--fill-color);\n",
              "    }\n",
              "    80% {\n",
              "      border-color: transparent;\n",
              "      border-right-color: var(--fill-color);\n",
              "      border-bottom-color: var(--fill-color);\n",
              "    }\n",
              "    90% {\n",
              "      border-color: transparent;\n",
              "      border-bottom-color: var(--fill-color);\n",
              "    }\n",
              "  }\n",
              "</style>\n",
              "\n",
              "  <script>\n",
              "    async function quickchart(key) {\n",
              "      const quickchartButtonEl =\n",
              "        document.querySelector('#' + key + ' button');\n",
              "      quickchartButtonEl.disabled = true;  // To prevent multiple clicks.\n",
              "      quickchartButtonEl.classList.add('colab-df-spinner');\n",
              "      try {\n",
              "        const charts = await google.colab.kernel.invokeFunction(\n",
              "            'suggestCharts', [key], {});\n",
              "      } catch (error) {\n",
              "        console.error('Error during call to suggestCharts:', error);\n",
              "      }\n",
              "      quickchartButtonEl.classList.remove('colab-df-spinner');\n",
              "      quickchartButtonEl.classList.add('colab-df-quickchart-complete');\n",
              "    }\n",
              "    (() => {\n",
              "      let quickchartButtonEl =\n",
              "        document.querySelector('#df-f73c1d6c-7b34-4e21-b798-ffb2deec1423 button');\n",
              "      quickchartButtonEl.style.display =\n",
              "        google.colab.kernel.accessAllowed ? 'block' : 'none';\n",
              "    })();\n",
              "  </script>\n",
              "</div>\n",
              "    </div>\n",
              "  </div>\n"
            ]
          },
          "metadata": {},
          "execution_count": 101
        }
      ]
    },
    {
      "cell_type": "markdown",
      "source": [
        "# 1. The share of consumers being offered credit"
      ],
      "metadata": {
        "id": "ZkgpsQeNoe2N"
      }
    },
    {
      "cell_type": "code",
      "source": [
        "total_consumers = len(merged_df)\n",
        "offered_credit_consumers = len(merged_df[merged_df['decision'] == 1])\n",
        "share_offered_credit = (offered_credit_consumers / total_consumers) * 100\n",
        "print(f\"Share of consumers being offered credit: {share_offered_credit:.2f}%\")\n"
      ],
      "metadata": {
        "colab": {
          "base_uri": "https://localhost:8080/"
        },
        "id": "jazebtcuuBOr",
        "outputId": "8fe4e678-bd30-41bf-a6d0-bf13f3829448"
      },
      "execution_count": null,
      "outputs": [
        {
          "output_type": "stream",
          "name": "stdout",
          "text": [
            "Share of consumers being offered credit: 60.94%\n"
          ]
        }
      ]
    },
    {
      "cell_type": "markdown",
      "source": [
        "# 2. a. How the firm has determined which consumers to offer credit to\n",
        "\n",
        "\n",
        "\n",
        "\n",
        "\n"
      ],
      "metadata": {
        "id": "WuE4S9i1owWA"
      }
    },
    {
      "cell_type": "code",
      "source": [
        "import matplotlib.pyplot as plt\n",
        "\n",
        "# Extract the variables for the scatter plot\n",
        "x = merged_df['mvar1']\n",
        "y = merged_df['decision_amount']\n",
        "\n",
        "# Create a scatter plot\n",
        "plt.figure(figsize=(8, 6))  # Adjust the figure size as needed\n",
        "plt.scatter(x, y, alpha=0.5)  # alpha controls the transparency of the points\n",
        "\n",
        "# Set labels and title\n",
        "plt.xlabel('mvar1')\n",
        "plt.ylabel('decision_amount')\n",
        "plt.title('Scatter Plot of mvar1 vs. decision_amount')\n",
        "\n",
        "# Show the plot\n",
        "plt.show()\n"
      ],
      "metadata": {
        "colab": {
          "base_uri": "https://localhost:8080/",
          "height": 564
        },
        "id": "P2yM7gE1HqsS",
        "outputId": "534d69e1-08b5-49c1-efdd-d134d841c59f"
      },
      "execution_count": null,
      "outputs": [
        {
          "output_type": "display_data",
          "data": {
            "text/plain": [
              "<Figure size 800x600 with 1 Axes>"
            ],
            "image/png": "[encoded data removed]"
          },
          "metadata": {}
        }
      ]
    },
    {
      "cell_type": "code",
      "source": [
        "from sklearn.tree import export_graphviz\n",
        "import graphviz\n",
        "\n",
        "# Create and train a decision tree classifier\n",
        "X = merged_df.drop(columns=['application_key','decision', 'decision_amount'])\n",
        "y = merged_df['decision']\n",
        "\n",
        "# Split the data into training and testing sets\n",
        "X_train, X_test, y_train, y_test = train_test_split(X, y, test_size=0.3, random_state=242)\n",
        "\n",
        "# Create the decision tree classifier\n",
        "decision_tree = DecisionTreeClassifier()  # Adjust the depth as needed\n",
        "\n",
        "decision_tree.fit(X_train, y_train)\n",
        "\n",
        "# Visualize the decision tree\n",
        "dot_data = export_graphviz(decision_tree, out_file=None,\n",
        "                           feature_names=X.columns,\n",
        "                           class_names=decision_tree.classes_.astype(str),  # Convert class labels to string\n",
        "                           filled=True, rounded=True,\n",
        "                           special_characters=True)\n",
        "\n",
        "graph = graphviz.Source(dot_data)\n",
        "\n",
        "# Display the decision tree visualization in the notebook\n",
        "display(graph)"
      ],
      "metadata": {
        "colab": {
          "base_uri": "https://localhost:8080/",
          "height": 282
        },
        "id": "Zk4vLWR_AHoY",
        "outputId": "82a9bb62-ddd4-4b69-8d05-4c71ee021df4"
      },
      "execution_count": null,
      "outputs": [
        {
          "output_type": "display_data",
          "data": {
            "image/svg+xml": "<?xml version=\"1.0\" encoding=\"UTF-8\" standalone=\"no\"?>\n<!DOCTYPE svg PUBLIC \"-//W3C//DTD SVG 1.1//EN\"\n \"http://www.w3.org/Graphics/SVG/1.1/DTD/svg11.dtd\">\n<!-- Generated by graphviz version 2.43.0 (0)\n -->\n<!-- Title: Tree Pages: 1 -->\n<svg width=\"276pt\" height=\"195pt\"\n viewBox=\"0.00 0.00 276.00 195.00\" xmlns=\"http://www.w3.org/2000/svg\" xmlns:xlink=\"http://www.w3.org/1999/xlink\">\n<g id=\"graph0\" class=\"graph\" transform=\"scale(1 1) rotate(0) translate(4 191)\">\n<title>Tree</title>\n<polygon fill=\"white\" stroke=\"transparent\" points=\"-4,4 -4,-191 272,-191 272,4 -4,4\"/>\n<!-- 0 -->\n<g id=\"node1\" class=\"node\">\n<title>0</title>\n<path fill=\"#b7dbf5\" stroke=\"black\" d=\"M199,-187C199,-187 68,-187 68,-187 62,-187 56,-181 56,-175 56,-175 56,-116 56,-116 56,-110 62,-104 68,-104 68,-104 199,-104 199,-104 205,-104 211,-110 211,-116 211,-116 211,-175 211,-175 211,-181 205,-187 199,-187\"/>\n<text text-anchor=\"start\" x=\"78.5\" y=\"-171.8\" font-family=\"Helvetica,sans-Serif\" font-size=\"14.00\">mvar1 ≤ 1700.125</text>\n<text text-anchor=\"start\" x=\"98\" y=\"-156.8\" font-family=\"Helvetica,sans-Serif\" font-size=\"14.00\">gini = 0.475</text>\n<text text-anchor=\"start\" x=\"81\" y=\"-141.8\" font-family=\"Helvetica,sans-Serif\" font-size=\"14.00\">samples = 53392</text>\n<text text-anchor=\"start\" x=\"64\" y=\"-126.8\" font-family=\"Helvetica,sans-Serif\" font-size=\"14.00\">value = [20727, 32665]</text>\n<text text-anchor=\"start\" x=\"100.5\" y=\"-111.8\" font-family=\"Helvetica,sans-Serif\" font-size=\"14.00\">class = 1.0</text>\n</g>\n<!-- 1 -->\n<g id=\"node2\" class=\"node\">\n<title>1</title>\n<path fill=\"#e58139\" stroke=\"black\" d=\"M113,-68C113,-68 12,-68 12,-68 6,-68 0,-62 0,-56 0,-56 0,-12 0,-12 0,-6 6,0 12,0 12,0 113,0 113,0 119,0 125,-6 125,-12 125,-12 125,-56 125,-56 125,-62 119,-68 113,-68\"/>\n<text text-anchor=\"start\" x=\"34.5\" y=\"-52.8\" font-family=\"Helvetica,sans-Serif\" font-size=\"14.00\">gini = 0.0</text>\n<text text-anchor=\"start\" x=\"10\" y=\"-37.8\" font-family=\"Helvetica,sans-Serif\" font-size=\"14.00\">samples = 20727</text>\n<text text-anchor=\"start\" x=\"8\" y=\"-22.8\" font-family=\"Helvetica,sans-Serif\" font-size=\"14.00\">value = [20727, 0]</text>\n<text text-anchor=\"start\" x=\"29.5\" y=\"-7.8\" font-family=\"Helvetica,sans-Serif\" font-size=\"14.00\">class = 0.0</text>\n</g>\n<!-- 0&#45;&gt;1 -->\n<g id=\"edge1\" class=\"edge\">\n<title>0&#45;&gt;1</title>\n<path fill=\"none\" stroke=\"black\" d=\"M107.06,-103.73C101.38,-94.97 95.38,-85.7 89.67,-76.91\"/>\n<polygon fill=\"black\" stroke=\"black\" points=\"92.47,-74.79 84.09,-68.3 86.6,-78.59 92.47,-74.79\"/>\n<text text-anchor=\"middle\" x=\"78.88\" y=\"-89.05\" font-family=\"Helvetica,sans-Serif\" font-size=\"14.00\">True</text>\n</g>\n<!-- 2 -->\n<g id=\"node3\" class=\"node\">\n<title>2</title>\n<path fill=\"#399de5\" stroke=\"black\" d=\"M256,-68C256,-68 155,-68 155,-68 149,-68 143,-62 143,-56 143,-56 143,-12 143,-12 143,-6 149,0 155,0 155,0 256,0 256,0 262,0 268,-6 268,-12 268,-12 268,-56 268,-56 268,-62 262,-68 256,-68\"/>\n<text text-anchor=\"start\" x=\"177.5\" y=\"-52.8\" font-family=\"Helvetica,sans-Serif\" font-size=\"14.00\">gini = 0.0</text>\n<text text-anchor=\"start\" x=\"153\" y=\"-37.8\" font-family=\"Helvetica,sans-Serif\" font-size=\"14.00\">samples = 32665</text>\n<text text-anchor=\"start\" x=\"151\" y=\"-22.8\" font-family=\"Helvetica,sans-Serif\" font-size=\"14.00\">value = [0, 32665]</text>\n<text text-anchor=\"start\" x=\"172.5\" y=\"-7.8\" font-family=\"Helvetica,sans-Serif\" font-size=\"14.00\">class = 1.0</text>\n</g>\n<!-- 0&#45;&gt;2 -->\n<g id=\"edge2\" class=\"edge\">\n<title>0&#45;&gt;2</title>\n<path fill=\"none\" stroke=\"black\" d=\"M160.31,-103.73C166.07,-94.97 172.16,-85.7 177.95,-76.91\"/>\n<polygon fill=\"black\" stroke=\"black\" points=\"181.03,-78.58 183.6,-68.3 175.19,-74.73 181.03,-78.58\"/>\n<text text-anchor=\"middle\" x=\"188.66\" y=\"-89.08\" font-family=\"Helvetica,sans-Serif\" font-size=\"14.00\">False</text>\n</g>\n</g>\n</svg>\n",
            "text/plain": [
              "<graphviz.sources.Source at 0x7c55a0416680>"
            ]
          },
          "metadata": {}
        }
      ]
    },
    {
      "cell_type": "markdown",
      "source": [
        "# 2-b How the firm has determined\thow much credit to offer to each consumer"
      ],
      "metadata": {
        "id": "rqKFmEpBpJdi"
      }
    },
    {
      "cell_type": "code",
      "source": [
        "from sklearn.tree import DecisionTreeRegressor\n",
        "\n",
        "X = merged_df.drop(columns=['application_key','decision', 'decision_amount'])\n",
        "y = merged_df['decision_amount']\n",
        "\n",
        "X_train, X_test, y_train, y_test = train_test_split(X, y, test_size=0.3, random_state=242)\n",
        "\n",
        "# Create and train a Decision Tree regressor\n",
        "decision_tree = DecisionTreeRegressor(max_depth = 3)  # Adjust parameters as needed\n",
        "decision_tree.fit(X_train, y_train)\n",
        "\n",
        "\n",
        "# Visualize the decision tree\n",
        "dot_data = export_graphviz(decision_tree, out_file=None,\n",
        "                           feature_names=X.columns,\n",
        "                           filled=True, rounded=True,\n",
        "                           special_characters=True)\n",
        "\n",
        "graph = graphviz.Source(dot_data)\n",
        "\n",
        "# Display the decision tree visualization in the notebook\n",
        "display(graph)"
      ],
      "metadata": {
        "colab": {
          "base_uri": "https://localhost:8080/",
          "height": 519
        },
        "id": "_xt-HUEXFnj-",
        "outputId": "fcb969d1-bb77-4938-f28e-bab0312559d9"
      },
      "execution_count": null,
      "outputs": [
        {
          "output_type": "display_data",
          "data": {
            "image/svg+xml": "<?xml version=\"1.0\" encoding=\"UTF-8\" standalone=\"no\"?>\n<!DOCTYPE svg PUBLIC \"-//W3C//DTD SVG 1.1//EN\"\n \"http://www.w3.org/Graphics/SVG/1.1/DTD/svg11.dtd\">\n<!-- Generated by graphviz version 2.43.0 (0)\n -->\n<!-- Title: Tree Pages: 1 -->\n<svg width=\"772pt\" height=\"373pt\"\n viewBox=\"0.00 0.00 772.00 373.00\" xmlns=\"http://www.w3.org/2000/svg\" xmlns:xlink=\"http://www.w3.org/1999/xlink\">\n<g id=\"graph0\" class=\"graph\" transform=\"scale(1 1) rotate(0) translate(4 369)\">\n<title>Tree</title>\n<polygon fill=\"white\" stroke=\"transparent\" points=\"-4,4 -4,-369 768,-369 768,4 -4,4\"/>\n<!-- 0 -->\n<g id=\"node1\" class=\"node\">\n<title>0</title>\n<path fill=\"#f5ccb0\" stroke=\"black\" d=\"M368.5,-365C368.5,-365 204.5,-365 204.5,-365 198.5,-365 192.5,-359 192.5,-353 192.5,-353 192.5,-309 192.5,-309 192.5,-303 198.5,-297 204.5,-297 204.5,-297 368.5,-297 368.5,-297 374.5,-297 380.5,-303 380.5,-309 380.5,-309 380.5,-353 380.5,-353 380.5,-359 374.5,-365 368.5,-365\"/>\n<text text-anchor=\"start\" x=\"231.5\" y=\"-349.8\" font-family=\"Helvetica,sans-Serif\" font-size=\"14.00\">mvar1 ≤ 1700.125</text>\n<text text-anchor=\"start\" x=\"200.5\" y=\"-334.8\" font-family=\"Helvetica,sans-Serif\" font-size=\"14.00\">squared_error = 501452.241</text>\n<text text-anchor=\"start\" x=\"234\" y=\"-319.8\" font-family=\"Helvetica,sans-Serif\" font-size=\"14.00\">samples = 53392</text>\n<text text-anchor=\"start\" x=\"238\" y=\"-304.8\" font-family=\"Helvetica,sans-Serif\" font-size=\"14.00\">value = 813.288</text>\n</g>\n<!-- 1 -->\n<g id=\"node2\" class=\"node\">\n<title>1</title>\n<path fill=\"#ffffff\" stroke=\"black\" d=\"M254.5,-253.5C254.5,-253.5 142.5,-253.5 142.5,-253.5 136.5,-253.5 130.5,-247.5 130.5,-241.5 130.5,-241.5 130.5,-212.5 130.5,-212.5 130.5,-206.5 136.5,-200.5 142.5,-200.5 142.5,-200.5 254.5,-200.5 254.5,-200.5 260.5,-200.5 266.5,-206.5 266.5,-212.5 266.5,-212.5 266.5,-241.5 266.5,-241.5 266.5,-247.5 260.5,-253.5 254.5,-253.5\"/>\n<text text-anchor=\"start\" x=\"138.5\" y=\"-238.3\" font-family=\"Helvetica,sans-Serif\" font-size=\"14.00\">squared_error = 0.0</text>\n<text text-anchor=\"start\" x=\"146\" y=\"-223.3\" font-family=\"Helvetica,sans-Serif\" font-size=\"14.00\">samples = 20727</text>\n<text text-anchor=\"start\" x=\"165\" y=\"-208.3\" font-family=\"Helvetica,sans-Serif\" font-size=\"14.00\">value = 0.0</text>\n</g>\n<!-- 0&#45;&gt;1 -->\n<g id=\"edge1\" class=\"edge\">\n<title>0&#45;&gt;1</title>\n<path fill=\"none\" stroke=\"black\" d=\"M257.93,-296.88C248.06,-285.45 237.01,-272.63 227.13,-261.19\"/>\n<polygon fill=\"black\" stroke=\"black\" points=\"229.7,-258.81 220.52,-253.52 224.4,-263.38 229.7,-258.81\"/>\n<text text-anchor=\"middle\" x=\"218.68\" y=\"-274.75\" font-family=\"Helvetica,sans-Serif\" font-size=\"14.00\">True</text>\n</g>\n<!-- 2 -->\n<g id=\"node3\" class=\"node\">\n<title>2</title>\n<path fill=\"#eeac7d\" stroke=\"black\" d=\"M454,-261C454,-261 297,-261 297,-261 291,-261 285,-255 285,-249 285,-249 285,-205 285,-205 285,-199 291,-193 297,-193 297,-193 454,-193 454,-193 460,-193 466,-199 466,-205 466,-205 466,-249 466,-249 466,-255 460,-261 454,-261\"/>\n<text text-anchor=\"start\" x=\"320.5\" y=\"-245.8\" font-family=\"Helvetica,sans-Serif\" font-size=\"14.00\">mvar1 ≤ 1822.375</text>\n<text text-anchor=\"start\" x=\"293\" y=\"-230.8\" font-family=\"Helvetica,sans-Serif\" font-size=\"14.00\">squared_error = 133620.61</text>\n<text text-anchor=\"start\" x=\"323\" y=\"-215.8\" font-family=\"Helvetica,sans-Serif\" font-size=\"14.00\">samples = 32665</text>\n<text text-anchor=\"start\" x=\"323\" y=\"-200.8\" font-family=\"Helvetica,sans-Serif\" font-size=\"14.00\">value = 1329.346</text>\n</g>\n<!-- 0&#45;&gt;2 -->\n<g id=\"edge2\" class=\"edge\">\n<title>0&#45;&gt;2</title>\n<path fill=\"none\" stroke=\"black\" d=\"M315.4,-296.88C323.17,-287.98 331.67,-278.24 339.76,-268.96\"/>\n<polygon fill=\"black\" stroke=\"black\" points=\"342.51,-271.14 346.44,-261.3 337.23,-266.53 342.51,-271.14\"/>\n<text text-anchor=\"middle\" x=\"348.14\" y=\"-282.54\" font-family=\"Helvetica,sans-Serif\" font-size=\"14.00\">False</text>\n</g>\n<!-- 3 -->\n<g id=\"node4\" class=\"node\">\n<title>3</title>\n<path fill=\"#f1ba92\" stroke=\"black\" d=\"M355,-157C355,-157 198,-157 198,-157 192,-157 186,-151 186,-145 186,-145 186,-101 186,-101 186,-95 192,-89 198,-89 198,-89 355,-89 355,-89 361,-89 367,-95 367,-101 367,-101 367,-145 367,-145 367,-151 361,-157 355,-157\"/>\n<text text-anchor=\"start\" x=\"221.5\" y=\"-141.8\" font-family=\"Helvetica,sans-Serif\" font-size=\"14.00\">mvar1 ≤ 1762.875</text>\n<text text-anchor=\"start\" x=\"194\" y=\"-126.8\" font-family=\"Helvetica,sans-Serif\" font-size=\"14.00\">squared_error = 23459.157</text>\n<text text-anchor=\"start\" x=\"224\" y=\"-111.8\" font-family=\"Helvetica,sans-Serif\" font-size=\"14.00\">samples = 22723</text>\n<text text-anchor=\"start\" x=\"224\" y=\"-96.8\" font-family=\"Helvetica,sans-Serif\" font-size=\"14.00\">value = 1118.256</text>\n</g>\n<!-- 2&#45;&gt;3 -->\n<g id=\"edge3\" class=\"edge\">\n<title>2&#45;&gt;3</title>\n<path fill=\"none\" stroke=\"black\" d=\"M343.36,-192.88C334.63,-183.89 325.07,-174.04 315.98,-164.68\"/>\n<polygon fill=\"black\" stroke=\"black\" points=\"318.3,-162.04 308.82,-157.3 313.27,-166.91 318.3,-162.04\"/>\n</g>\n<!-- 6 -->\n<g id=\"node7\" class=\"node\">\n<title>6</title>\n<path fill=\"#e88e4e\" stroke=\"black\" d=\"M554,-157C554,-157 397,-157 397,-157 391,-157 385,-151 385,-145 385,-145 385,-101 385,-101 385,-95 391,-89 397,-89 397,-89 554,-89 554,-89 560,-89 566,-95 566,-101 566,-101 566,-145 566,-145 566,-151 560,-157 554,-157\"/>\n<text text-anchor=\"start\" x=\"420.5\" y=\"-141.8\" font-family=\"Helvetica,sans-Serif\" font-size=\"14.00\">mvar1 ≤ 1878.875</text>\n<text text-anchor=\"start\" x=\"393\" y=\"-126.8\" font-family=\"Helvetica,sans-Serif\" font-size=\"14.00\">squared_error = 50791.639</text>\n<text text-anchor=\"start\" x=\"427\" y=\"-111.8\" font-family=\"Helvetica,sans-Serif\" font-size=\"14.00\">samples = 9942</text>\n<text text-anchor=\"start\" x=\"423\" y=\"-96.8\" font-family=\"Helvetica,sans-Serif\" font-size=\"14.00\">value = 1811.805</text>\n</g>\n<!-- 2&#45;&gt;6 -->\n<g id=\"edge6\" class=\"edge\">\n<title>2&#45;&gt;6</title>\n<path fill=\"none\" stroke=\"black\" d=\"M407.97,-192.88C416.79,-183.89 426.44,-174.04 435.62,-164.68\"/>\n<polygon fill=\"black\" stroke=\"black\" points=\"438.35,-166.89 442.85,-157.3 433.35,-161.99 438.35,-166.89\"/>\n</g>\n<!-- 4 -->\n<g id=\"node5\" class=\"node\">\n<title>4</title>\n<path fill=\"#f2c09c\" stroke=\"black\" d=\"M161,-53C161,-53 12,-53 12,-53 6,-53 0,-47 0,-41 0,-41 0,-12 0,-12 0,-6 6,0 12,0 12,0 161,0 161,0 167,0 173,-6 173,-12 173,-12 173,-41 173,-41 173,-47 167,-53 161,-53\"/>\n<text text-anchor=\"start\" x=\"8\" y=\"-37.8\" font-family=\"Helvetica,sans-Serif\" font-size=\"14.00\">squared_error = 5166.544</text>\n<text text-anchor=\"start\" x=\"34\" y=\"-22.8\" font-family=\"Helvetica,sans-Serif\" font-size=\"14.00\">samples = 14375</text>\n<text text-anchor=\"start\" x=\"34\" y=\"-7.8\" font-family=\"Helvetica,sans-Serif\" font-size=\"14.00\">value = 1018.012</text>\n</g>\n<!-- 3&#45;&gt;4 -->\n<g id=\"edge4\" class=\"edge\">\n<title>3&#45;&gt;4</title>\n<path fill=\"none\" stroke=\"black\" d=\"M210.05,-88.95C189.54,-78.75 167.07,-67.57 146.99,-57.59\"/>\n<polygon fill=\"black\" stroke=\"black\" points=\"148.46,-54.41 137.94,-53.09 145.34,-60.67 148.46,-54.41\"/>\n</g>\n<!-- 5 -->\n<g id=\"node6\" class=\"node\">\n<title>5</title>\n<path fill=\"#eeaf81\" stroke=\"black\" d=\"M352,-53C352,-53 203,-53 203,-53 197,-53 191,-47 191,-41 191,-41 191,-12 191,-12 191,-6 197,0 203,0 203,0 352,0 352,0 358,0 364,-6 364,-12 364,-12 364,-41 364,-41 364,-47 358,-53 352,-53\"/>\n<text text-anchor=\"start\" x=\"199\" y=\"-37.8\" font-family=\"Helvetica,sans-Serif\" font-size=\"14.00\">squared_error = 7857.993</text>\n<text text-anchor=\"start\" x=\"229\" y=\"-22.8\" font-family=\"Helvetica,sans-Serif\" font-size=\"14.00\">samples = 8348</text>\n<text text-anchor=\"start\" x=\"225\" y=\"-7.8\" font-family=\"Helvetica,sans-Serif\" font-size=\"14.00\">value = 1290.873</text>\n</g>\n<!-- 3&#45;&gt;5 -->\n<g id=\"edge5\" class=\"edge\">\n<title>3&#45;&gt;5</title>\n<path fill=\"none\" stroke=\"black\" d=\"M276.85,-88.95C276.94,-80.72 277.03,-71.85 277.12,-63.48\"/>\n<polygon fill=\"black\" stroke=\"black\" points=\"280.62,-63.27 277.23,-53.24 273.62,-63.2 280.62,-63.27\"/>\n</g>\n<!-- 7 -->\n<g id=\"node8\" class=\"node\">\n<title>7</title>\n<path fill=\"#ea995e\" stroke=\"black\" d=\"M553,-53C553,-53 396,-53 396,-53 390,-53 384,-47 384,-41 384,-41 384,-12 384,-12 384,-6 390,0 396,0 396,0 553,0 553,0 559,0 565,-6 565,-12 565,-12 565,-41 565,-41 565,-47 559,-53 553,-53\"/>\n<text text-anchor=\"start\" x=\"392\" y=\"-37.8\" font-family=\"Helvetica,sans-Serif\" font-size=\"14.00\">squared_error = 11780.045</text>\n<text text-anchor=\"start\" x=\"426\" y=\"-22.8\" font-family=\"Helvetica,sans-Serif\" font-size=\"14.00\">samples = 5603</text>\n<text text-anchor=\"start\" x=\"422\" y=\"-7.8\" font-family=\"Helvetica,sans-Serif\" font-size=\"14.00\">value = 1644.384</text>\n</g>\n<!-- 6&#45;&gt;7 -->\n<g id=\"edge7\" class=\"edge\">\n<title>6&#45;&gt;7</title>\n<path fill=\"none\" stroke=\"black\" d=\"M475.15,-88.95C475.06,-80.72 474.97,-71.85 474.88,-63.48\"/>\n<polygon fill=\"black\" stroke=\"black\" points=\"478.38,-63.2 474.77,-53.24 471.38,-63.27 478.38,-63.2\"/>\n</g>\n<!-- 8 -->\n<g id=\"node9\" class=\"node\">\n<title>8</title>\n<path fill=\"#e58139\" stroke=\"black\" d=\"M752,-53C752,-53 595,-53 595,-53 589,-53 583,-47 583,-41 583,-41 583,-12 583,-12 583,-6 589,0 595,0 595,0 752,0 752,0 758,0 764,-6 764,-12 764,-12 764,-41 764,-41 764,-47 758,-53 752,-53\"/>\n<text text-anchor=\"start\" x=\"591\" y=\"-37.8\" font-family=\"Helvetica,sans-Serif\" font-size=\"14.00\">squared_error = 18232.855</text>\n<text text-anchor=\"start\" x=\"625\" y=\"-22.8\" font-family=\"Helvetica,sans-Serif\" font-size=\"14.00\">samples = 4339</text>\n<text text-anchor=\"start\" x=\"621\" y=\"-7.8\" font-family=\"Helvetica,sans-Serif\" font-size=\"14.00\">value = 2027.998</text>\n</g>\n<!-- 6&#45;&gt;8 -->\n<g id=\"edge8\" class=\"edge\">\n<title>6&#45;&gt;8</title>\n<path fill=\"none\" stroke=\"black\" d=\"M544.75,-88.95C566.22,-78.7 589.75,-67.47 610.75,-57.45\"/>\n<polygon fill=\"black\" stroke=\"black\" points=\"612.37,-60.55 619.89,-53.09 609.36,-54.24 612.37,-60.55\"/>\n</g>\n</g>\n</svg>\n",
            "text/plain": [
              "<graphviz.sources.Source at 0x7c559f50f880>"
            ]
          },
          "metadata": {}
        }
      ]
    },
    {
      "cell_type": "code",
      "source": [
        "import pandas as pd\n",
        "import matplotlib.pyplot as plt\n",
        "import seaborn as sns\n",
        "\n",
        "# Create bins for the score ranges\n",
        "score_bins = [0, 1700.1, 1762, 1822, 1878, float('inf')]\n",
        "score_labels = ['0-1700', '1701-1762', '1763-1822', '1823-1878', '1879+']\n",
        "\n",
        "# Apply pd.cut to create score range labels for each row\n",
        "merged_df['score_range'] = pd.cut(merged_df['mvar1'], bins=score_bins, labels=score_labels, right=False)\n",
        "\n",
        "# Group by score ranges and calculate statistics\n",
        "score_range_stats = merged_df.groupby('score_range')['decision_amount'].agg(['min', 'max', 'mean', 'median']).reset_index()\n",
        "\n",
        "# Print the statistics for each score range\n",
        "print(\"                 DECISION AMOUNT ACCORDING TO MVAR1          \")\n",
        "print(score_range_stats)\n",
        "\n"
      ],
      "metadata": {
        "colab": {
          "base_uri": "https://localhost:8080/"
        },
        "id": "T_DiOkgALaKs",
        "outputId": "8381a7a2-3fca-4e52-9b3c-f8c324437267"
      },
      "execution_count": null,
      "outputs": [
        {
          "output_type": "stream",
          "name": "stdout",
          "text": [
            "                 DECISION AMOUNT ACCORDING TO MVAR1          \n",
            "  score_range          min          max         mean       median\n",
            "0      0-1700     0.000000     0.000000     0.000000     0.000000\n",
            "1   1701-1762   898.745588  1149.405349  1016.258067  1012.319995\n",
            "2   1763-1822  1150.555329  1461.180574  1286.821156  1277.934012\n",
            "3   1823-1878  1462.642485  1828.040670  1639.204643  1635.984430\n",
            "4       1879+  1829.869625  2440.601978  2021.430225  2000.195090\n"
          ]
        }
      ]
    },
    {
      "cell_type": "code",
      "source": [
        "\n",
        "# Create subplots\n",
        "fig, ax = plt.subplots(figsize=(10, 6))\n",
        "\n",
        "# Create a box plot for each score range\n",
        "sns.boxplot(data=merged_df, x='score_range', y='decision_amount', ax=ax)\n",
        "\n",
        "# Set labels and title\n",
        "ax.set_xlabel('Score Range')\n",
        "ax.set_ylabel('Decision Amount')\n",
        "ax.set_title('Box Plots of Decision Amount by Score Range')\n",
        "\n",
        "# Show the plot\n",
        "plt.xticks(rotation=45)\n",
        "plt.show()\n"
      ],
      "metadata": {
        "colab": {
          "base_uri": "https://localhost:8080/",
          "height": 613
        },
        "id": "RUJjctoMpXux",
        "outputId": "a5a4b23a-48d2-4fc2-ce9e-b8021e83e7e0"
      },
      "execution_count": null,
      "outputs": [
        {
          "output_type": "display_data",
          "data": {
            "text/plain": [
              "<Figure size 1000x600 with 1 Axes>"
            ],
            "image/png": "[encoded data removed]"
          },
          "metadata": {}
        }
      ]
    },
    {
      "cell_type": "code",
      "source": [
        "import statsmodels.api as sm\n",
        "filtered_df = merged_df[merged_df['decision'] == 1]\n",
        "X = filtered_df[['mvar1', 'Age_40-59', 'Gender_M',\t'Location_Northern Ireland',\t'Location_Scotland',\t'Location_Wales']]\n",
        "X = sm.add_constant(X)  # Add a constant (intercept) to the model\n",
        "y = filtered_df['decision_amount']\n",
        "model = sm.OLS(y, X).fit()\n",
        "print(model.summary())"
      ],
      "metadata": {
        "colab": {
          "base_uri": "https://localhost:8080/"
        },
        "id": "nNHyJnffq1tE",
        "outputId": "0766cca4-c41c-44e2-a19e-8b1ceb3fc16c"
      },
      "execution_count": null,
      "outputs": [
        {
          "output_type": "stream",
          "name": "stdout",
          "text": [
            "                            OLS Regression Results                            \n",
            "==============================================================================\n",
            "Dep. Variable:        decision_amount   R-squared:                       0.986\n",
            "Model:                            OLS   Adj. R-squared:                  0.986\n",
            "Method:                 Least Squares   F-statistic:                 5.485e+05\n",
            "Date:                Thu, 26 Oct 2023   Prob (F-statistic):               0.00\n",
            "Time:                        11:45:22   Log-Likelihood:            -2.4092e+05\n",
            "No. Observations:               46482   AIC:                         4.818e+05\n",
            "Df Residuals:                   46475   BIC:                         4.819e+05\n",
            "Df Model:                           6                                         \n",
            "Covariance Type:            nonrobust                                         \n",
            "=============================================================================================\n",
            "                                coef    std err          t      P>|t|      [0.025      0.975]\n",
            "---------------------------------------------------------------------------------------------\n",
            "const                     -8725.3477      5.553  -1571.191      0.000   -8736.232   -8714.463\n",
            "mvar1                         5.6186      0.003   1811.299      0.000       5.612       5.625\n",
            "Age_40-59                     1.9365      0.473      4.093      0.000       1.009       2.864\n",
            "Gender_M                      1.5666      0.419      3.740      0.000       0.746       2.387\n",
            "Location_Northern Ireland    -3.7385      1.243     -3.009      0.003      -6.174      -1.303\n",
            "Location_Scotland            -2.2202      0.754     -2.943      0.003      -3.699      -0.742\n",
            "Location_Wales               -2.3446      0.955     -2.456      0.014      -4.216      -0.473\n",
            "==============================================================================\n",
            "Omnibus:                     5286.664   Durbin-Watson:                   1.997\n",
            "Prob(Omnibus):                  0.000   Jarque-Bera (JB):             7371.388\n",
            "Skew:                           0.904   Prob(JB):                         0.00\n",
            "Kurtosis:                       3.734   Cond. No.                     4.97e+04\n",
            "==============================================================================\n",
            "\n",
            "Notes:\n",
            "[1] Standard Errors assume that the covariance matrix of the errors is correctly specified.\n",
            "[2] The condition number is large, 4.97e+04. This might indicate that there are\n",
            "strong multicollinearity or other numerical problems.\n"
          ]
        }
      ]
    },
    {
      "cell_type": "markdown",
      "source": [
        "# 3. How credit offered by the firm differs across people will different characteristics (demographics)"
      ],
      "metadata": {
        "id": "9Ya2c2wVpl6F"
      }
    },
    {
      "cell_type": "code",
      "source": [
        "\n",
        "# Create a list of columns to loop through\n",
        "columns = ['Location', 'Age', 'Gender']\n",
        "\n",
        "fig, axs = plt.subplots(1, 3, figsize=(15, 5))  # 1 row, 3 columns for the subplots\n",
        "\n",
        "for i, column in enumerate(columns):\n",
        "    contingency_table = pd.crosstab(merged_df_copy[column], merged_df_copy['decision'])\n",
        "    percentages = contingency_table.div(contingency_table.sum(1), axis=0) * 100\n",
        "\n",
        "    ax = percentages.plot(kind='bar', stacked=True, ax=axs[i])\n",
        "    ax.set_title(f\"Effect of {column} on Decision (Percentages)\")\n",
        "    ax.set_xlabel(column)\n",
        "    ax.set_ylabel(\"Percentage\")\n",
        "\n",
        "    mean_percentage_0 = (percentages[0] * contingency_table[0]).sum() / contingency_table[0].sum()\n",
        "    ax.axhline(y=mean_percentage_0, color='red', linestyle='--', label=f'Mean 0s: {mean_percentage_0:.1f}%')\n",
        "    ax.legend()\n",
        "\n",
        "plt.tight_layout()  # Ensure proper spacing between subplots\n",
        "plt.show()\n"
      ],
      "metadata": {
        "colab": {
          "base_uri": "https://localhost:8080/",
          "height": 507
        },
        "id": "J0GHqNCFohvo",
        "outputId": "ddfc7f83-d5be-4c9c-e824-4026248a0ad6"
      },
      "execution_count": null,
      "outputs": [
        {
          "output_type": "display_data",
          "data": {
            "text/plain": [
              "<Figure size 1500x500 with 3 Axes>"
            ],
            "image/png": "[encoded data removed]"
          },
          "metadata": {}
        }
      ]
    },
    {
      "cell_type": "code",
      "source": [
        "import pandas as pd\n",
        "from scipy.stats import chi2_contingency\n",
        "import numpy as np\n",
        "\n",
        "# Create contingency tables\n",
        "contingency_tables = {}\n",
        "demographic_vars = ['Age', 'Location', 'Gender']\n",
        "\n",
        "for var in demographic_vars:\n",
        "    contingency_table = pd.crosstab(merged_df_copy[var], merged_df_copy['decision'])\n",
        "    contingency_tables[var] = contingency_table\n",
        "\n",
        "results = []\n",
        "\n",
        "for var, contingency_table in contingency_tables.items():\n",
        "    chi2, p, dof, expected = chi2_contingency(contingency_table)\n",
        "    n = np.sum(contingency_table.values)\n",
        "    cramer_v = np.sqrt(chi2 / (n * min(contingency_table.shape) - 1))  # Cramer's V for contingency tables\n",
        "\n",
        "    results.append({\n",
        "        'Demographic Variable': var,\n",
        "        'Chi-Squared Statistic': chi2,\n",
        "        'p-value': p,\n",
        "        \"Cramer's V\": cramer_v\n",
        "    })\n",
        "\n",
        "results_df = pd.DataFrame(results)\n",
        "print(results_df)\n"
      ],
      "metadata": {
        "colab": {
          "base_uri": "https://localhost:8080/"
        },
        "id": "D6s0fmNuVkPH",
        "outputId": "e30ea047-4f59-43e7-c33b-157ec51840fc"
      },
      "execution_count": null,
      "outputs": [
        {
          "output_type": "stream",
          "name": "stdout",
          "text": [
            "  Demographic Variable  Chi-Squared Statistic       p-value  Cramer's V\n",
            "0                  Age              73.605537  7.210086e-16    0.021966\n",
            "1             Location             169.346773  1.760703e-36    0.033318\n",
            "2               Gender             203.353147  3.873734e-46    0.036511\n"
          ]
        }
      ]
    },
    {
      "cell_type": "markdown",
      "source": [
        "- AGE: The p-value is highly significant, suggesting a strong association between age and credit decision. The effect size (Cramer's V) is small but indicates a weak association.\n",
        "- Location: The p-value is highly significant, suggesting a strong association between location and credit decision. The effect size (Cramer's V) indicates a moderate association.\n",
        "- Gender: The p-value is highly significant, suggesting a strong association between gender and credit decision. The effect size (Cramer's V) shows a moderate association."
      ],
      "metadata": {
        "id": "yeMHC4IHWZh0"
      }
    },
    {
      "cell_type": "code",
      "source": [
        "import pandas as pd\n",
        "import statsmodels.api as sm\n",
        "from statsmodels.formula.api import ols\n",
        "\n",
        "filtered_df_copy = merged_df_copy[merged_df_copy['decision'] == 1]\n",
        "\n",
        "\n",
        "# Fit an ANOVA model for credit amount against demographic variables\n",
        "model = ols('decision_amount ~ Gender + Location + Age', data=filtered_df_copy).fit()\n",
        "anova_table = sm.stats.anova_lm(model, typ=2)\n",
        "\n",
        "print(anova_table)\n"
      ],
      "metadata": {
        "colab": {
          "base_uri": "https://localhost:8080/"
        },
        "id": "hErffAixWgZQ",
        "outputId": "ef95bad9-c844-4c3f-e5e3-f292d0e813fd"
      },
      "execution_count": null,
      "outputs": [
        {
          "output_type": "stream",
          "name": "stdout",
          "text": [
            "                sum_sq       df          F        PR(>F)\n",
            "Gender    7.750088e+06      1.0  58.218517  2.390215e-14\n",
            "Location  7.377679e+06      3.0  18.473661  5.673040e-12\n",
            "Age       5.238037e+06      3.0  13.116012  1.476272e-08\n",
            "Residual  6.186650e+09  46474.0        NaN           NaN\n"
          ]
        }
      ]
    },
    {
      "cell_type": "markdown",
      "source": [
        "- For \"Gender the p-value is very low (< 0.05), indicating that Gender has a significant effect on the decision amount.\n",
        "\n",
        "- For \"Location\", the p-value is very low (< 0.05), indicating that Locations have a significant effect on the decision amount.\n",
        "\n",
        "- For \"Age\", the p-value is very low (< 0.05), indicating that Age groups have a significant effect on the decision amount."
      ],
      "metadata": {
        "id": "JP2L7osEWYIh"
      }
    },
    {
      "cell_type": "code",
      "source": [
        "import statsmodels.api as sm\n",
        "\n",
        "X = filtered_df[['mvar1', 'Age_40-59', 'Gender_M',\t'Location_Northern Ireland',\t'Location_Scotland',\t'Location_Wales']]\n",
        "X = sm.add_constant(X)  # Add a constant (intercept) to the model\n",
        "y = filtered_df['decision_amount']\n",
        "model = sm.OLS(y, X).fit()\n",
        "print(model.summary())"
      ],
      "metadata": {
        "colab": {
          "base_uri": "https://localhost:8080/"
        },
        "id": "386Co9iGT_Y1",
        "outputId": "de87bed0-2d5a-4263-b4c7-220aa39729c6"
      },
      "execution_count": null,
      "outputs": [
        {
          "output_type": "stream",
          "name": "stdout",
          "text": [
            "                            OLS Regression Results                            \n",
            "==============================================================================\n",
            "Dep. Variable:        decision_amount   R-squared:                       0.986\n",
            "Model:                            OLS   Adj. R-squared:                  0.986\n",
            "Method:                 Least Squares   F-statistic:                 5.485e+05\n",
            "Date:                Thu, 26 Oct 2023   Prob (F-statistic):               0.00\n",
            "Time:                        11:26:34   Log-Likelihood:            -2.4092e+05\n",
            "No. Observations:               46482   AIC:                         4.818e+05\n",
            "Df Residuals:                   46475   BIC:                         4.819e+05\n",
            "Df Model:                           6                                         \n",
            "Covariance Type:            nonrobust                                         \n",
            "=============================================================================================\n",
            "                                coef    std err          t      P>|t|      [0.025      0.975]\n",
            "---------------------------------------------------------------------------------------------\n",
            "const                     -8725.3477      5.553  -1571.191      0.000   -8736.232   -8714.463\n",
            "mvar1                         5.6186      0.003   1811.299      0.000       5.612       5.625\n",
            "Age_40-59                     1.9365      0.473      4.093      0.000       1.009       2.864\n",
            "Gender_M                      1.5666      0.419      3.740      0.000       0.746       2.387\n",
            "Location_Northern Ireland    -3.7385      1.243     -3.009      0.003      -6.174      -1.303\n",
            "Location_Scotland            -2.2202      0.754     -2.943      0.003      -3.699      -0.742\n",
            "Location_Wales               -2.3446      0.955     -2.456      0.014      -4.216      -0.473\n",
            "==============================================================================\n",
            "Omnibus:                     5286.664   Durbin-Watson:                   1.997\n",
            "Prob(Omnibus):                  0.000   Jarque-Bera (JB):             7371.388\n",
            "Skew:                           0.904   Prob(JB):                         0.00\n",
            "Kurtosis:                       3.734   Cond. No.                     4.97e+04\n",
            "==============================================================================\n",
            "\n",
            "Notes:\n",
            "[1] Standard Errors assume that the covariance matrix of the errors is correctly specified.\n",
            "[2] The condition number is large, 4.97e+04. This might indicate that there are\n",
            "strong multicollinearity or other numerical problems.\n"
          ]
        }
      ]
    },
    {
      "cell_type": "markdown",
      "source": [
        "The regression model suggests that the independent variables \"Age,\" \"Gender,\" and \"Location\" have statistically significant effects on \"decision_amount.\" Locations other than England is negatively correlated whereas being male and in age group between 40 and 59 is postively corralated. Finally the model's overall explanatory power (R-squared) is quite high."
      ],
      "metadata": {
        "id": "gGZuSL8MZpBj"
      }
    }
  ]
}